{
 "cells": [
  {
   "cell_type": "markdown",
   "id": "4b96523d",
   "metadata": {},
   "source": [
    "# Linear SVM"
   ]
  },
  {
   "cell_type": "markdown",
   "id": "108407e6",
   "metadata": {},
   "source": [
    "in this model we will build a linear SVM to detect the Iris Virginica flowers"
   ]
  },
  {
   "cell_type": "code",
   "execution_count": 1,
   "id": "e08fff84",
   "metadata": {},
   "outputs": [],
   "source": [
    "#importing the required libraries\n",
    "\n",
    "import numpy as np\n",
    "import pandas as pd\n",
    "from sklearn import datasets\n",
    "from sklearn.pipeline import Pipeline\n",
    "from sklearn.preprocessing import StandardScaler\n",
    "from sklearn.svm import LinearSVC\n",
    "#LinearSVC is a Suport vector clasifier"
   ]
  },
  {
   "cell_type": "markdown",
   "id": "0d78dcb3",
   "metadata": {},
   "source": [
    "All the required Libraries are imported now we will import the data set"
   ]
  },
  {
   "cell_type": "code",
   "execution_count": 2,
   "id": "06f80c5f",
   "metadata": {},
   "outputs": [],
   "source": [
    "#loading the data from datasets\n",
    "iris = datasets.load_iris()"
   ]
  },
  {
   "cell_type": "markdown",
   "id": "cb1f0f0b",
   "metadata": {},
   "source": [
    "Now we got the data lets Lets make the feature variable and Target variable"
   ]
  },
  {
   "cell_type": "code",
   "execution_count": 6,
   "id": "9ba1ffe6",
   "metadata": {},
   "outputs": [],
   "source": [
    "X = iris['data'][:,(2,3)] # we are reading petal length and width\n",
    "y = (iris['target']==2).astype(np.float64) # those are only Virginica"
   ]
  },
  {
   "cell_type": "code",
   "execution_count": 10,
   "id": "9073b666",
   "metadata": {},
   "outputs": [
    {
     "data": {
      "text/html": [
       "<div>\n",
       "<style scoped>\n",
       "    .dataframe tbody tr th:only-of-type {\n",
       "        vertical-align: middle;\n",
       "    }\n",
       "\n",
       "    .dataframe tbody tr th {\n",
       "        vertical-align: top;\n",
       "    }\n",
       "\n",
       "    .dataframe thead th {\n",
       "        text-align: right;\n",
       "    }\n",
       "</style>\n",
       "<table border=\"1\" class=\"dataframe\">\n",
       "  <thead>\n",
       "    <tr style=\"text-align: right;\">\n",
       "      <th></th>\n",
       "      <th>0</th>\n",
       "      <th>1</th>\n",
       "    </tr>\n",
       "  </thead>\n",
       "  <tbody>\n",
       "    <tr>\n",
       "      <th>0</th>\n",
       "      <td>1.4</td>\n",
       "      <td>0.2</td>\n",
       "    </tr>\n",
       "    <tr>\n",
       "      <th>1</th>\n",
       "      <td>1.4</td>\n",
       "      <td>0.2</td>\n",
       "    </tr>\n",
       "    <tr>\n",
       "      <th>2</th>\n",
       "      <td>1.3</td>\n",
       "      <td>0.2</td>\n",
       "    </tr>\n",
       "    <tr>\n",
       "      <th>3</th>\n",
       "      <td>1.5</td>\n",
       "      <td>0.2</td>\n",
       "    </tr>\n",
       "    <tr>\n",
       "      <th>4</th>\n",
       "      <td>1.4</td>\n",
       "      <td>0.2</td>\n",
       "    </tr>\n",
       "  </tbody>\n",
       "</table>\n",
       "</div>"
      ],
      "text/plain": [
       "     0    1\n",
       "0  1.4  0.2\n",
       "1  1.4  0.2\n",
       "2  1.3  0.2\n",
       "3  1.5  0.2\n",
       "4  1.4  0.2"
      ]
     },
     "execution_count": 10,
     "metadata": {},
     "output_type": "execute_result"
    }
   ],
   "source": [
    "pd.DataFrame(X).head()"
   ]
  },
  {
   "cell_type": "code",
   "execution_count": 11,
   "id": "1aacac81",
   "metadata": {},
   "outputs": [
    {
     "data": {
      "text/html": [
       "<div>\n",
       "<style scoped>\n",
       "    .dataframe tbody tr th:only-of-type {\n",
       "        vertical-align: middle;\n",
       "    }\n",
       "\n",
       "    .dataframe tbody tr th {\n",
       "        vertical-align: top;\n",
       "    }\n",
       "\n",
       "    .dataframe thead th {\n",
       "        text-align: right;\n",
       "    }\n",
       "</style>\n",
       "<table border=\"1\" class=\"dataframe\">\n",
       "  <thead>\n",
       "    <tr style=\"text-align: right;\">\n",
       "      <th></th>\n",
       "      <th>0</th>\n",
       "    </tr>\n",
       "  </thead>\n",
       "  <tbody>\n",
       "    <tr>\n",
       "      <th>0</th>\n",
       "      <td>0.0</td>\n",
       "    </tr>\n",
       "    <tr>\n",
       "      <th>1</th>\n",
       "      <td>0.0</td>\n",
       "    </tr>\n",
       "    <tr>\n",
       "      <th>2</th>\n",
       "      <td>0.0</td>\n",
       "    </tr>\n",
       "    <tr>\n",
       "      <th>3</th>\n",
       "      <td>0.0</td>\n",
       "    </tr>\n",
       "    <tr>\n",
       "      <th>4</th>\n",
       "      <td>0.0</td>\n",
       "    </tr>\n",
       "  </tbody>\n",
       "</table>\n",
       "</div>"
      ],
      "text/plain": [
       "     0\n",
       "0  0.0\n",
       "1  0.0\n",
       "2  0.0\n",
       "3  0.0\n",
       "4  0.0"
      ]
     },
     "execution_count": 11,
     "metadata": {},
     "output_type": "execute_result"
    }
   ],
   "source": [
    "pd.DataFrame(y).head()"
   ]
  },
  {
   "cell_type": "markdown",
   "id": "e227be05",
   "metadata": {},
   "source": [
    "we have set our feature variable and our target variable and we have seen how they look like"
   ]
  },
  {
   "cell_type": "markdown",
   "id": "74079b62",
   "metadata": {},
   "source": [
    "Lets build a pipeline for scaling and model Instatiation"
   ]
  },
  {
   "cell_type": "code",
   "execution_count": 12,
   "id": "4b107d1f",
   "metadata": {},
   "outputs": [],
   "source": [
    "svm_clf = Pipeline([\n",
    "    ('scaler' , StandardScaler()),\n",
    "    ('linear_svc', LinearSVC(C=1, loss = 'hinge')),\n",
    "])"
   ]
  },
  {
   "cell_type": "markdown",
   "id": "a9d4e026",
   "metadata": {},
   "source": [
    "Lets fit our model"
   ]
  },
  {
   "cell_type": "code",
   "execution_count": 14,
   "id": "6e705029",
   "metadata": {},
   "outputs": [
    {
     "data": {
      "text/plain": [
       "Pipeline(steps=[('scaler', StandardScaler()),\n",
       "                ('linear_svc', LinearSVC(C=1, loss='hinge'))])"
      ]
     },
     "execution_count": 14,
     "metadata": {},
     "output_type": "execute_result"
    }
   ],
   "source": [
    "svm_clf.fit(X, y)"
   ]
  },
  {
   "cell_type": "markdown",
   "id": "c09f7f2d",
   "metadata": {},
   "source": [
    "we have trained our model lets see its prediction"
   ]
  },
  {
   "cell_type": "code",
   "execution_count": 15,
   "id": "6c5ed15c",
   "metadata": {},
   "outputs": [
    {
     "data": {
      "text/plain": [
       "array([0.])"
      ]
     },
     "execution_count": 15,
     "metadata": {},
     "output_type": "execute_result"
    }
   ],
   "source": [
    "#we are giving the values of the first row in the X\n",
    "svm_clf.predict([[1.4, 0.2]])"
   ]
  },
  {
   "cell_type": "markdown",
   "id": "086e618b",
   "metadata": {},
   "source": [
    "we got the first row of y"
   ]
  },
  {
   "cell_type": "code",
   "execution_count": null,
   "id": "58ead84a",
   "metadata": {},
   "outputs": [],
   "source": []
  },
  {
   "cell_type": "markdown",
   "id": "8458cabb",
   "metadata": {},
   "source": [
    "# This is how an Linear SVM works...\n",
    "\n",
    "Thank you"
   ]
  },
  {
   "cell_type": "code",
   "execution_count": null,
   "id": "408107c9",
   "metadata": {},
   "outputs": [],
   "source": []
  }
 ],
 "metadata": {
  "kernelspec": {
   "display_name": "Python 3",
   "language": "python",
   "name": "python3"
  },
  "language_info": {
   "codemirror_mode": {
    "name": "ipython",
    "version": 3
   },
   "file_extension": ".py",
   "mimetype": "text/x-python",
   "name": "python",
   "nbconvert_exporter": "python",
   "pygments_lexer": "ipython3",
   "version": "3.8.8"
  }
 },
 "nbformat": 4,
 "nbformat_minor": 5
}
